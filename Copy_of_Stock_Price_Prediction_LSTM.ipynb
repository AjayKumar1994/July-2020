{
  "nbformat": 4,
  "nbformat_minor": 0,
  "metadata": {
    "colab": {
      "name": "Copy of Stock-Price-Prediction-LSTM.ipynb",
      "provenance": [],
      "collapsed_sections": [],
      "authorship_tag": "ABX9TyMnSTnQQf/EWk00U4bMWAXc",
      "include_colab_link": true
    },
    "kernelspec": {
      "name": "python3",
      "display_name": "Python 3"
    },
    "accelerator": "GPU"
  },
  "cells": [
    {
      "cell_type": "markdown",
      "metadata": {
        "id": "view-in-github",
        "colab_type": "text"
      },
      "source": [
        "<a href=\"https://colab.research.google.com/github/AjayKumar1994/Stock-Price-Prediction-LSTM/blob/master/Copy_of_Stock_Price_Prediction_LSTM.ipynb\" target=\"_parent\"><img src=\"https://colab.research.google.com/assets/colab-badge.svg\" alt=\"Open In Colab\"/></a>"
      ]
    },
    {
      "cell_type": "markdown",
      "metadata": {
        "id": "5bLnq8o2LS0n",
        "colab_type": "text"
      },
      "source": [
        "# Stock Price Prediction of Apple"
      ]
    },
    {
      "cell_type": "code",
      "metadata": {
        "id": "frHn8dF5Lkm_",
        "colab_type": "code",
        "colab": {
          "base_uri": "https://localhost:8080/",
          "height": 88
        },
        "outputId": "305ebe19-b978-4ee0-a472-5a39520a3786"
      },
      "source": [
        "import pandas as pd\n",
        "import numpy as np\n",
        "%matplotlib inline\n",
        "import matplotlib.pyplot as plt\n",
        "import matplotlib\n",
        "from sklearn import metrics\n",
        "import seaborn as sns\n",
        "from sklearn import svm\n",
        "from sklearn.preprocessing import MinMaxScaler\n",
        "from keras.layers import LSTM,Dense,Dropout\n",
        "from sklearn.model_selection import TimeSeriesSplit\n",
        "from sklearn.metrics import mean_squared_error, r2_score\n",
        "import matplotlib.dates as mdates\n",
        "from sklearn import linear_model"
      ],
      "execution_count": null,
      "outputs": [
        {
          "output_type": "stream",
          "text": [
            "/usr/local/lib/python3.6/dist-packages/statsmodels/tools/_testing.py:19: FutureWarning: pandas.util.testing is deprecated. Use the functions in the public API at pandas.testing instead.\n",
            "  import pandas.util.testing as tm\n",
            "Using TensorFlow backend.\n"
          ],
          "name": "stderr"
        }
      ]
    },
    {
      "cell_type": "markdown",
      "metadata": {
        "id": "d56mBhgxONNM",
        "colab_type": "text"
      },
      "source": [
        " **Get the data**\n",
        "\n",
        "\n",
        "\n"
      ]
    },
    {
      "cell_type": "code",
      "metadata": {
        "id": "5RjiaYcdMH0y",
        "colab_type": "code",
        "colab": {}
      },
      "source": [
        "## Get the APPLE stock data\n",
        "import pandas_datareader.data as web\n",
        "import datetime    \n",
        "\n",
        "start = datetime.datetime(2012, 1, 1)\n",
        "end = datetime.datetime(2020, 6, 22)\n",
        "df = web.DataReader(\"AAPL\", 'yahoo', start, end)"
      ],
      "execution_count": null,
      "outputs": []
    },
    {
      "cell_type": "code",
      "metadata": {
        "id": "w30qam0bOBF0",
        "colab_type": "code",
        "colab": {
          "base_uri": "https://localhost:8080/",
          "height": 234
        },
        "outputId": "650f14a8-da07-4800-e5d5-9b9ba2b324f7"
      },
      "source": [
        "df.head()"
      ],
      "execution_count": null,
      "outputs": [
        {
          "output_type": "execute_result",
          "data": {
            "text/html": [
              "<div>\n",
              "<style scoped>\n",
              "    .dataframe tbody tr th:only-of-type {\n",
              "        vertical-align: middle;\n",
              "    }\n",
              "\n",
              "    .dataframe tbody tr th {\n",
              "        vertical-align: top;\n",
              "    }\n",
              "\n",
              "    .dataframe thead th {\n",
              "        text-align: right;\n",
              "    }\n",
              "</style>\n",
              "<table border=\"1\" class=\"dataframe\">\n",
              "  <thead>\n",
              "    <tr style=\"text-align: right;\">\n",
              "      <th></th>\n",
              "      <th>High</th>\n",
              "      <th>Low</th>\n",
              "      <th>Open</th>\n",
              "      <th>Close</th>\n",
              "      <th>Volume</th>\n",
              "      <th>Adj Close</th>\n",
              "    </tr>\n",
              "    <tr>\n",
              "      <th>Date</th>\n",
              "      <th></th>\n",
              "      <th></th>\n",
              "      <th></th>\n",
              "      <th></th>\n",
              "      <th></th>\n",
              "      <th></th>\n",
              "    </tr>\n",
              "  </thead>\n",
              "  <tbody>\n",
              "    <tr>\n",
              "      <th>2012-01-03</th>\n",
              "      <td>58.928570</td>\n",
              "      <td>58.428570</td>\n",
              "      <td>58.485714</td>\n",
              "      <td>58.747143</td>\n",
              "      <td>75555200.0</td>\n",
              "      <td>50.857235</td>\n",
              "    </tr>\n",
              "    <tr>\n",
              "      <th>2012-01-04</th>\n",
              "      <td>59.240002</td>\n",
              "      <td>58.468571</td>\n",
              "      <td>58.571430</td>\n",
              "      <td>59.062859</td>\n",
              "      <td>65005500.0</td>\n",
              "      <td>51.130558</td>\n",
              "    </tr>\n",
              "    <tr>\n",
              "      <th>2012-01-05</th>\n",
              "      <td>59.792858</td>\n",
              "      <td>58.952858</td>\n",
              "      <td>59.278572</td>\n",
              "      <td>59.718571</td>\n",
              "      <td>67817400.0</td>\n",
              "      <td>51.698215</td>\n",
              "    </tr>\n",
              "    <tr>\n",
              "      <th>2012-01-06</th>\n",
              "      <td>60.392857</td>\n",
              "      <td>59.888573</td>\n",
              "      <td>59.967144</td>\n",
              "      <td>60.342857</td>\n",
              "      <td>79573200.0</td>\n",
              "      <td>52.238651</td>\n",
              "    </tr>\n",
              "    <tr>\n",
              "      <th>2012-01-09</th>\n",
              "      <td>61.107143</td>\n",
              "      <td>60.192856</td>\n",
              "      <td>60.785713</td>\n",
              "      <td>60.247143</td>\n",
              "      <td>98506100.0</td>\n",
              "      <td>52.155792</td>\n",
              "    </tr>\n",
              "  </tbody>\n",
              "</table>\n",
              "</div>"
            ],
            "text/plain": [
              "                 High        Low       Open      Close      Volume  Adj Close\n",
              "Date                                                                         \n",
              "2012-01-03  58.928570  58.428570  58.485714  58.747143  75555200.0  50.857235\n",
              "2012-01-04  59.240002  58.468571  58.571430  59.062859  65005500.0  51.130558\n",
              "2012-01-05  59.792858  58.952858  59.278572  59.718571  67817400.0  51.698215\n",
              "2012-01-06  60.392857  59.888573  59.967144  60.342857  79573200.0  52.238651\n",
              "2012-01-09  61.107143  60.192856  60.785713  60.247143  98506100.0  52.155792"
            ]
          },
          "metadata": {
            "tags": []
          },
          "execution_count": 3
        }
      ]
    },
    {
      "cell_type": "code",
      "metadata": {
        "id": "u43zt_2YPQXP",
        "colab_type": "code",
        "colab": {
          "base_uri": "https://localhost:8080/",
          "height": 34
        },
        "outputId": "d671f1de-9673-4ec6-f7d8-7d067944d7f3"
      },
      "source": [
        "df.shape"
      ],
      "execution_count": null,
      "outputs": [
        {
          "output_type": "execute_result",
          "data": {
            "text/plain": [
              "(2131, 6)"
            ]
          },
          "metadata": {
            "tags": []
          },
          "execution_count": 4
        }
      ]
    },
    {
      "cell_type": "code",
      "metadata": {
        "id": "gJsU6rHoyucR",
        "colab_type": "code",
        "colab": {
          "base_uri": "https://localhost:8080/",
          "height": 240
        },
        "outputId": "75306844-148e-4e4b-c39f-3dcce67c18f4"
      },
      "source": [
        "# Check data types in columns\n",
        "df.info()"
      ],
      "execution_count": null,
      "outputs": [
        {
          "output_type": "stream",
          "text": [
            "<class 'pandas.core.frame.DataFrame'>\n",
            "DatetimeIndex: 2131 entries, 2012-01-03 to 2020-06-22\n",
            "Data columns (total 6 columns):\n",
            " #   Column     Non-Null Count  Dtype  \n",
            "---  ------     --------------  -----  \n",
            " 0   High       2131 non-null   float64\n",
            " 1   Low        2131 non-null   float64\n",
            " 2   Open       2131 non-null   float64\n",
            " 3   Close      2131 non-null   float64\n",
            " 4   Volume     2131 non-null   float64\n",
            " 5   Adj Close  2131 non-null   float64\n",
            "dtypes: float64(6)\n",
            "memory usage: 116.5 KB\n"
          ],
          "name": "stdout"
        }
      ]
    },
    {
      "cell_type": "code",
      "metadata": {
        "id": "VTHnwgGXPh3P",
        "colab_type": "code",
        "colab": {
          "base_uri": "https://localhost:8080/",
          "height": 34
        },
        "outputId": "d62b999a-1514-4587-d72e-1f0a54d7c073"
      },
      "source": [
        "df.isnull().values.any()  # is there any NULL variable in the dataset?"
      ],
      "execution_count": null,
      "outputs": [
        {
          "output_type": "execute_result",
          "data": {
            "text/plain": [
              "False"
            ]
          },
          "metadata": {
            "tags": []
          },
          "execution_count": 6
        }
      ]
    },
    {
      "cell_type": "code",
      "metadata": {
        "id": "cTgtuXHrPXZZ",
        "colab_type": "code",
        "colab": {
          "base_uri": "https://localhost:8080/",
          "height": 295
        },
        "outputId": "20e4667c-9573-4b02-d730-2ec90f85f1e4"
      },
      "source": [
        "df.describe().round(4)  "
      ],
      "execution_count": null,
      "outputs": [
        {
          "output_type": "execute_result",
          "data": {
            "text/html": [
              "<div>\n",
              "<style scoped>\n",
              "    .dataframe tbody tr th:only-of-type {\n",
              "        vertical-align: middle;\n",
              "    }\n",
              "\n",
              "    .dataframe tbody tr th {\n",
              "        vertical-align: top;\n",
              "    }\n",
              "\n",
              "    .dataframe thead th {\n",
              "        text-align: right;\n",
              "    }\n",
              "</style>\n",
              "<table border=\"1\" class=\"dataframe\">\n",
              "  <thead>\n",
              "    <tr style=\"text-align: right;\">\n",
              "      <th></th>\n",
              "      <th>High</th>\n",
              "      <th>Low</th>\n",
              "      <th>Open</th>\n",
              "      <th>Close</th>\n",
              "      <th>Volume</th>\n",
              "      <th>Adj Close</th>\n",
              "    </tr>\n",
              "  </thead>\n",
              "  <tbody>\n",
              "    <tr>\n",
              "      <th>count</th>\n",
              "      <td>2131.0000</td>\n",
              "      <td>2131.0000</td>\n",
              "      <td>2131.0000</td>\n",
              "      <td>2131.0000</td>\n",
              "      <td>2.131000e+03</td>\n",
              "      <td>2131.0000</td>\n",
              "    </tr>\n",
              "    <tr>\n",
              "      <th>mean</th>\n",
              "      <td>137.6918</td>\n",
              "      <td>135.0822</td>\n",
              "      <td>136.3543</td>\n",
              "      <td>136.4450</td>\n",
              "      <td>5.856654e+07</td>\n",
              "      <td>129.7785</td>\n",
              "    </tr>\n",
              "    <tr>\n",
              "      <th>std</th>\n",
              "      <td>64.2179</td>\n",
              "      <td>62.7462</td>\n",
              "      <td>63.3638</td>\n",
              "      <td>63.5812</td>\n",
              "      <td>4.588330e+07</td>\n",
              "      <td>65.9561</td>\n",
              "    </tr>\n",
              "    <tr>\n",
              "      <th>min</th>\n",
              "      <td>57.0857</td>\n",
              "      <td>55.0143</td>\n",
              "      <td>55.4243</td>\n",
              "      <td>55.7900</td>\n",
              "      <td>1.136200e+07</td>\n",
              "      <td>49.0101</td>\n",
              "    </tr>\n",
              "    <tr>\n",
              "      <th>25%</th>\n",
              "      <td>88.5800</td>\n",
              "      <td>86.6093</td>\n",
              "      <td>87.9657</td>\n",
              "      <td>87.7157</td>\n",
              "      <td>2.771435e+07</td>\n",
              "      <td>76.8070</td>\n",
              "    </tr>\n",
              "    <tr>\n",
              "      <th>50%</th>\n",
              "      <td>116.7500</td>\n",
              "      <td>114.8500</td>\n",
              "      <td>115.9300</td>\n",
              "      <td>115.6200</td>\n",
              "      <td>4.230720e+07</td>\n",
              "      <td>107.7701</td>\n",
              "    </tr>\n",
              "    <tr>\n",
              "      <th>75%</th>\n",
              "      <td>174.9950</td>\n",
              "      <td>172.2250</td>\n",
              "      <td>173.6500</td>\n",
              "      <td>174.0300</td>\n",
              "      <td>7.253715e+07</td>\n",
              "      <td>168.3831</td>\n",
              "    </tr>\n",
              "    <tr>\n",
              "      <th>max</th>\n",
              "      <td>359.4600</td>\n",
              "      <td>351.1500</td>\n",
              "      <td>355.1500</td>\n",
              "      <td>358.8700</td>\n",
              "      <td>3.765300e+08</td>\n",
              "      <td>358.8700</td>\n",
              "    </tr>\n",
              "  </tbody>\n",
              "</table>\n",
              "</div>"
            ],
            "text/plain": [
              "            High        Low       Open      Close        Volume  Adj Close\n",
              "count  2131.0000  2131.0000  2131.0000  2131.0000  2.131000e+03  2131.0000\n",
              "mean    137.6918   135.0822   136.3543   136.4450  5.856654e+07   129.7785\n",
              "std      64.2179    62.7462    63.3638    63.5812  4.588330e+07    65.9561\n",
              "min      57.0857    55.0143    55.4243    55.7900  1.136200e+07    49.0101\n",
              "25%      88.5800    86.6093    87.9657    87.7157  2.771435e+07    76.8070\n",
              "50%     116.7500   114.8500   115.9300   115.6200  4.230720e+07   107.7701\n",
              "75%     174.9950   172.2250   173.6500   174.0300  7.253715e+07   168.3831\n",
              "max     359.4600   351.1500   355.1500   358.8700  3.765300e+08   358.8700"
            ]
          },
          "metadata": {
            "tags": []
          },
          "execution_count": 7
        }
      ]
    },
    {
      "cell_type": "code",
      "metadata": {
        "id": "hamvCEIDy_oW",
        "colab_type": "code",
        "colab": {
          "base_uri": "https://localhost:8080/",
          "height": 34
        },
        "outputId": "a4da1d46-c66f-4e55-9956-3603c289e263"
      },
      "source": [
        "# Display features in data set\n",
        "df.columns"
      ],
      "execution_count": null,
      "outputs": [
        {
          "output_type": "execute_result",
          "data": {
            "text/plain": [
              "Index(['High', 'Low', 'Open', 'Close', 'Volume', 'Adj Close'], dtype='object')"
            ]
          },
          "metadata": {
            "tags": []
          },
          "execution_count": 8
        }
      ]
    },
    {
      "cell_type": "code",
      "metadata": {
        "id": "Mi6SesRGPqhN",
        "colab_type": "code",
        "colab": {
          "base_uri": "https://localhost:8080/",
          "height": 339
        },
        "outputId": "115e4658-07dd-4e1d-8dc0-afc373bd53f5"
      },
      "source": [
        "#Visualize the close price data\n",
        "plt.figure(figsize=(16,8))\n",
        "plt.title('Apple Stock Prices')\n",
        "plt.xlabel('Years')\n",
        "plt.ylabel('Close Price USD ($)')\n",
        "df['Close'].plot()\n",
        "plt.grid()\n",
        "plt.show()"
      ],
      "execution_count": null,
      "outputs": [
        {
          "output_type": "display_data",
          "data": {
            "image/png": "[encoded data removed]",
            "text/plain": [
              "<Figure size 1152x576 with 1 Axes>"
            ]
          },
          "metadata": {
            "tags": [],
            "needs_background": "light"
          }
        }
      ]
    },
    {
      "cell_type": "markdown",
      "metadata": {
        "id": "dSEFTpPrSY9J",
        "colab_type": "text"
      },
      "source": [
        "**Correlation Analysis**"
      ]
    },
    {
      "cell_type": "code",
      "metadata": {
        "id": "IPdEWyERP20i",
        "colab_type": "code",
        "colab": {}
      },
      "source": [
        "X=df.drop(['Close'],axis=1)\n",
        "X=X.drop(['Adj Close'],axis=1)"
      ],
      "execution_count": null,
      "outputs": []
    },
    {
      "cell_type": "code",
      "metadata": {
        "id": "eRaET2QlR1yJ",
        "colab_type": "code",
        "colab": {
          "base_uri": "https://localhost:8080/",
          "height": 398
        },
        "outputId": "a1ad1515-5f34-46a6-ad7a-63d2a348809f"
      },
      "source": [
        "X.corrwith(df['Close']).plot.bar(\n",
        "        figsize = (20, 10), title = \"Correlation with Close\", fontsize = 20,\n",
        "        rot = 90, grid = True)"
      ],
      "execution_count": null,
      "outputs": [
        {
          "output_type": "execute_result",
          "data": {
            "text/plain": [
              "<matplotlib.axes._subplots.AxesSubplot at 0x7f0635f394a8>"
            ]
          },
          "metadata": {
            "tags": []
          },
          "execution_count": 11
        },
        {
          "output_type": "display_data",
          "data": {
            "image/png": "[encoded data removed]",
            "text/plain": [
              "<Figure size 1440x720 with 1 Axes>"
            ]
          },
          "metadata": {
            "tags": [],
            "needs_background": "light"
          }
        }
      ]
    },
    {
      "cell_type": "code",
      "metadata": {
        "id": "WJTIC35oR4Ox",
        "colab_type": "code",
        "colab": {
          "base_uri": "https://localhost:8080/",
          "height": 234
        },
        "outputId": "95f9478c-884f-4437-e7b4-351a0f112452"
      },
      "source": [
        "test = df\n",
        "# Target column\n",
        "target_close = pd.DataFrame(test['Close'])\n",
        "display(test.head())"
      ],
      "execution_count": null,
      "outputs": [
        {
          "output_type": "display_data",
          "data": {
            "text/html": [
              "<div>\n",
              "<style scoped>\n",
              "    .dataframe tbody tr th:only-of-type {\n",
              "        vertical-align: middle;\n",
              "    }\n",
              "\n",
              "    .dataframe tbody tr th {\n",
              "        vertical-align: top;\n",
              "    }\n",
              "\n",
              "    .dataframe thead th {\n",
              "        text-align: right;\n",
              "    }\n",
              "</style>\n",
              "<table border=\"1\" class=\"dataframe\">\n",
              "  <thead>\n",
              "    <tr style=\"text-align: right;\">\n",
              "      <th></th>\n",
              "      <th>High</th>\n",
              "      <th>Low</th>\n",
              "      <th>Open</th>\n",
              "      <th>Close</th>\n",
              "      <th>Volume</th>\n",
              "      <th>Adj Close</th>\n",
              "    </tr>\n",
              "    <tr>\n",
              "      <th>Date</th>\n",
              "      <th></th>\n",
              "      <th></th>\n",
              "      <th></th>\n",
              "      <th></th>\n",
              "      <th></th>\n",
              "      <th></th>\n",
              "    </tr>\n",
              "  </thead>\n",
              "  <tbody>\n",
              "    <tr>\n",
              "      <th>2012-01-03</th>\n",
              "      <td>58.928570</td>\n",
              "      <td>58.428570</td>\n",
              "      <td>58.485714</td>\n",
              "      <td>58.747143</td>\n",
              "      <td>75555200.0</td>\n",
              "      <td>50.857235</td>\n",
              "    </tr>\n",
              "    <tr>\n",
              "      <th>2012-01-04</th>\n",
              "      <td>59.240002</td>\n",
              "      <td>58.468571</td>\n",
              "      <td>58.571430</td>\n",
              "      <td>59.062859</td>\n",
              "      <td>65005500.0</td>\n",
              "      <td>51.130558</td>\n",
              "    </tr>\n",
              "    <tr>\n",
              "      <th>2012-01-05</th>\n",
              "      <td>59.792858</td>\n",
              "      <td>58.952858</td>\n",
              "      <td>59.278572</td>\n",
              "      <td>59.718571</td>\n",
              "      <td>67817400.0</td>\n",
              "      <td>51.698215</td>\n",
              "    </tr>\n",
              "    <tr>\n",
              "      <th>2012-01-06</th>\n",
              "      <td>60.392857</td>\n",
              "      <td>59.888573</td>\n",
              "      <td>59.967144</td>\n",
              "      <td>60.342857</td>\n",
              "      <td>79573200.0</td>\n",
              "      <td>52.238651</td>\n",
              "    </tr>\n",
              "    <tr>\n",
              "      <th>2012-01-09</th>\n",
              "      <td>61.107143</td>\n",
              "      <td>60.192856</td>\n",
              "      <td>60.785713</td>\n",
              "      <td>60.247143</td>\n",
              "      <td>98506100.0</td>\n",
              "      <td>52.155792</td>\n",
              "    </tr>\n",
              "  </tbody>\n",
              "</table>\n",
              "</div>"
            ],
            "text/plain": [
              "                 High        Low       Open      Close      Volume  Adj Close\n",
              "Date                                                                         \n",
              "2012-01-03  58.928570  58.428570  58.485714  58.747143  75555200.0  50.857235\n",
              "2012-01-04  59.240002  58.468571  58.571430  59.062859  65005500.0  51.130558\n",
              "2012-01-05  59.792858  58.952858  59.278572  59.718571  67817400.0  51.698215\n",
              "2012-01-06  60.392857  59.888573  59.967144  60.342857  79573200.0  52.238651\n",
              "2012-01-09  61.107143  60.192856  60.785713  60.247143  98506100.0  52.155792"
            ]
          },
          "metadata": {
            "tags": []
          }
        }
      ]
    },
    {
      "cell_type": "code",
      "metadata": {
        "id": "0Y7NnHAbSyLV",
        "colab_type": "code",
        "colab": {}
      },
      "source": [
        "# selecting Feature Columns\n",
        "feature_columns = ['Open', 'High', 'Low', 'Volume']"
      ],
      "execution_count": null,
      "outputs": []
    },
    {
      "cell_type": "markdown",
      "metadata": {
        "id": "XSYYjgNJTISP",
        "colab_type": "text"
      },
      "source": [
        "**Normalizing the data**"
      ]
    },
    {
      "cell_type": "code",
      "metadata": {
        "id": "P09hG9b_S9wN",
        "colab_type": "code",
        "colab": {
          "base_uri": "https://localhost:8080/",
          "height": 234
        },
        "outputId": "dc4c5621-87e2-4479-bb01-bb6d537717ed"
      },
      "source": [
        "from sklearn.preprocessing import MinMaxScaler\n",
        "scaler = MinMaxScaler()\n",
        "feature_minmax_transform_data = scaler.fit_transform(test[feature_columns])\n",
        "feature_minmax_transform = pd.DataFrame(columns=feature_columns, data=feature_minmax_transform_data, index=test.index)\n",
        "feature_minmax_transform.head()"
      ],
      "execution_count": null,
      "outputs": [
        {
          "output_type": "execute_result",
          "data": {
            "text/html": [
              "<div>\n",
              "<style scoped>\n",
              "    .dataframe tbody tr th:only-of-type {\n",
              "        vertical-align: middle;\n",
              "    }\n",
              "\n",
              "    .dataframe tbody tr th {\n",
              "        vertical-align: top;\n",
              "    }\n",
              "\n",
              "    .dataframe thead th {\n",
              "        text-align: right;\n",
              "    }\n",
              "</style>\n",
              "<table border=\"1\" class=\"dataframe\">\n",
              "  <thead>\n",
              "    <tr style=\"text-align: right;\">\n",
              "      <th></th>\n",
              "      <th>Open</th>\n",
              "      <th>High</th>\n",
              "      <th>Low</th>\n",
              "      <th>Volume</th>\n",
              "    </tr>\n",
              "    <tr>\n",
              "      <th>Date</th>\n",
              "      <th></th>\n",
              "      <th></th>\n",
              "      <th></th>\n",
              "      <th></th>\n",
              "    </tr>\n",
              "  </thead>\n",
              "  <tbody>\n",
              "    <tr>\n",
              "      <th>2012-01-03</th>\n",
              "      <td>0.010214</td>\n",
              "      <td>0.006095</td>\n",
              "      <td>0.011529</td>\n",
              "      <td>0.175791</td>\n",
              "    </tr>\n",
              "    <tr>\n",
              "      <th>2012-01-04</th>\n",
              "      <td>0.010500</td>\n",
              "      <td>0.007125</td>\n",
              "      <td>0.011665</td>\n",
              "      <td>0.146901</td>\n",
              "    </tr>\n",
              "    <tr>\n",
              "      <th>2012-01-05</th>\n",
              "      <td>0.012859</td>\n",
              "      <td>0.008953</td>\n",
              "      <td>0.013300</td>\n",
              "      <td>0.154601</td>\n",
              "    </tr>\n",
              "    <tr>\n",
              "      <th>2012-01-06</th>\n",
              "      <td>0.015157</td>\n",
              "      <td>0.010937</td>\n",
              "      <td>0.016460</td>\n",
              "      <td>0.186794</td>\n",
              "    </tr>\n",
              "    <tr>\n",
              "      <th>2012-01-09</th>\n",
              "      <td>0.017888</td>\n",
              "      <td>0.013300</td>\n",
              "      <td>0.017487</td>\n",
              "      <td>0.238641</td>\n",
              "    </tr>\n",
              "  </tbody>\n",
              "</table>\n",
              "</div>"
            ],
            "text/plain": [
              "                Open      High       Low    Volume\n",
              "Date                                              \n",
              "2012-01-03  0.010214  0.006095  0.011529  0.175791\n",
              "2012-01-04  0.010500  0.007125  0.011665  0.146901\n",
              "2012-01-05  0.012859  0.008953  0.013300  0.154601\n",
              "2012-01-06  0.015157  0.010937  0.016460  0.186794\n",
              "2012-01-09  0.017888  0.013300  0.017487  0.238641"
            ]
          },
          "metadata": {
            "tags": []
          },
          "execution_count": 14
        }
      ]
    },
    {
      "cell_type": "code",
      "metadata": {
        "id": "IPDrE3ZWTNvF",
        "colab_type": "code",
        "colab": {
          "base_uri": "https://localhost:8080/",
          "height": 1000
        },
        "outputId": "98cd1c4c-74dd-427d-c386-9a064f770979"
      },
      "source": [
        "display(feature_minmax_transform.head())\n",
        "print('Shape of features : ', feature_minmax_transform.shape)\n",
        "print('Shape of target : ', target_close.shape)\n",
        "\n",
        "# Shift target array because we want to predict the n + 1 day value\n",
        "\n",
        "\n",
        "target_close = target_close.shift(-1)\n",
        "validation_y = target_close[-90:-1]\n",
        "target_close = target_close[:-90]\n",
        "\n",
        "# Taking last 90 rows of data to be validation set\n",
        "validation_X = feature_minmax_transform[-90:-1]\n",
        "feature_minmax_transform = feature_minmax_transform[:-90]\n",
        "display(validation_X.tail())\n",
        "display(validation_y.tail())\n",
        "\n",
        "print(\"\\n -----After process------ \\n\")\n",
        "print('Shape of features : ', feature_minmax_transform.shape)\n",
        "print('Shape of target : ', target_close.shape)\n",
        "display(target_close.tail())"
      ],
      "execution_count": null,
      "outputs": [
        {
          "output_type": "display_data",
          "data": {
            "text/html": [
              "<div>\n",
              "<style scoped>\n",
              "    .dataframe tbody tr th:only-of-type {\n",
              "        vertical-align: middle;\n",
              "    }\n",
              "\n",
              "    .dataframe tbody tr th {\n",
              "        vertical-align: top;\n",
              "    }\n",
              "\n",
              "    .dataframe thead th {\n",
              "        text-align: right;\n",
              "    }\n",
              "</style>\n",
              "<table border=\"1\" class=\"dataframe\">\n",
              "  <thead>\n",
              "    <tr style=\"text-align: right;\">\n",
              "      <th></th>\n",
              "      <th>Open</th>\n",
              "      <th>High</th>\n",
              "      <th>Low</th>\n",
              "      <th>Volume</th>\n",
              "    </tr>\n",
              "    <tr>\n",
              "      <th>Date</th>\n",
              "      <th></th>\n",
              "      <th></th>\n",
              "      <th></th>\n",
              "      <th></th>\n",
              "    </tr>\n",
              "  </thead>\n",
              "  <tbody>\n",
              "    <tr>\n",
              "      <th>2012-01-03</th>\n",
              "      <td>0.010214</td>\n",
              "      <td>0.006095</td>\n",
              "      <td>0.011529</td>\n",
              "      <td>0.175791</td>\n",
              "    </tr>\n",
              "    <tr>\n",
              "      <th>2012-01-04</th>\n",
              "      <td>0.010500</td>\n",
              "      <td>0.007125</td>\n",
              "      <td>0.011665</td>\n",
              "      <td>0.146901</td>\n",
              "    </tr>\n",
              "    <tr>\n",
              "      <th>2012-01-05</th>\n",
              "      <td>0.012859</td>\n",
              "      <td>0.008953</td>\n",
              "      <td>0.013300</td>\n",
              "      <td>0.154601</td>\n",
              "    </tr>\n",
              "    <tr>\n",
              "      <th>2012-01-06</th>\n",
              "      <td>0.015157</td>\n",
              "      <td>0.010937</td>\n",
              "      <td>0.016460</td>\n",
              "      <td>0.186794</td>\n",
              "    </tr>\n",
              "    <tr>\n",
              "      <th>2012-01-09</th>\n",
              "      <td>0.017888</td>\n",
              "      <td>0.013300</td>\n",
              "      <td>0.017487</td>\n",
              "      <td>0.238641</td>\n",
              "    </tr>\n",
              "  </tbody>\n",
              "</table>\n",
              "</div>"
            ],
            "text/plain": [
              "                Open      High       Low    Volume\n",
              "Date                                              \n",
              "2012-01-03  0.010214  0.006095  0.011529  0.175791\n",
              "2012-01-04  0.010500  0.007125  0.011665  0.146901\n",
              "2012-01-05  0.012859  0.008953  0.013300  0.154601\n",
              "2012-01-06  0.015157  0.010937  0.016460  0.186794\n",
              "2012-01-09  0.017888  0.013300  0.017487  0.238641"
            ]
          },
          "metadata": {
            "tags": []
          }
        },
        {
          "output_type": "stream",
          "text": [
            "Shape of features :  (2131, 4)\n",
            "Shape of target :  (2131, 1)\n"
          ],
          "name": "stdout"
        },
        {
          "output_type": "display_data",
          "data": {
            "text/html": [
              "<div>\n",
              "<style scoped>\n",
              "    .dataframe tbody tr th:only-of-type {\n",
              "        vertical-align: middle;\n",
              "    }\n",
              "\n",
              "    .dataframe tbody tr th {\n",
              "        vertical-align: top;\n",
              "    }\n",
              "\n",
              "    .dataframe thead th {\n",
              "        text-align: right;\n",
              "    }\n",
              "</style>\n",
              "<table border=\"1\" class=\"dataframe\">\n",
              "  <thead>\n",
              "    <tr style=\"text-align: right;\">\n",
              "      <th></th>\n",
              "      <th>Open</th>\n",
              "      <th>High</th>\n",
              "      <th>Low</th>\n",
              "      <th>Volume</th>\n",
              "    </tr>\n",
              "    <tr>\n",
              "      <th>Date</th>\n",
              "      <th></th>\n",
              "      <th></th>\n",
              "      <th></th>\n",
              "      <th></th>\n",
              "    </tr>\n",
              "  </thead>\n",
              "  <tbody>\n",
              "    <tr>\n",
              "      <th>2020-06-15</th>\n",
              "      <td>0.926933</td>\n",
              "      <td>0.954427</td>\n",
              "      <td>0.937292</td>\n",
              "      <td>0.063916</td>\n",
              "    </tr>\n",
              "    <tr>\n",
              "      <th>2020-06-16</th>\n",
              "      <td>0.987689</td>\n",
              "      <td>0.979297</td>\n",
              "      <td>0.978287</td>\n",
              "      <td>0.082141</td>\n",
              "    </tr>\n",
              "    <tr>\n",
              "      <th>2020-06-17</th>\n",
              "      <td>1.000000</td>\n",
              "      <td>0.986573</td>\n",
              "      <td>0.999797</td>\n",
              "      <td>0.047019</td>\n",
              "    </tr>\n",
              "    <tr>\n",
              "      <th>2020-06-18</th>\n",
              "      <td>0.987522</td>\n",
              "      <td>0.980124</td>\n",
              "      <td>0.993483</td>\n",
              "      <td>0.035170</td>\n",
              "    </tr>\n",
              "    <tr>\n",
              "      <th>2020-06-19</th>\n",
              "      <td>0.998299</td>\n",
              "      <td>0.990409</td>\n",
              "      <td>0.979739</td>\n",
              "      <td>0.149950</td>\n",
              "    </tr>\n",
              "  </tbody>\n",
              "</table>\n",
              "</div>"
            ],
            "text/plain": [
              "                Open      High       Low    Volume\n",
              "Date                                              \n",
              "2020-06-15  0.926933  0.954427  0.937292  0.063916\n",
              "2020-06-16  0.987689  0.979297  0.978287  0.082141\n",
              "2020-06-17  1.000000  0.986573  0.999797  0.047019\n",
              "2020-06-18  0.987522  0.980124  0.993483  0.035170\n",
              "2020-06-19  0.998299  0.990409  0.979739  0.149950"
            ]
          },
          "metadata": {
            "tags": []
          }
        },
        {
          "output_type": "display_data",
          "data": {
            "text/html": [
              "<div>\n",
              "<style scoped>\n",
              "    .dataframe tbody tr th:only-of-type {\n",
              "        vertical-align: middle;\n",
              "    }\n",
              "\n",
              "    .dataframe tbody tr th {\n",
              "        vertical-align: top;\n",
              "    }\n",
              "\n",
              "    .dataframe thead th {\n",
              "        text-align: right;\n",
              "    }\n",
              "</style>\n",
              "<table border=\"1\" class=\"dataframe\">\n",
              "  <thead>\n",
              "    <tr style=\"text-align: right;\">\n",
              "      <th></th>\n",
              "      <th>Close</th>\n",
              "    </tr>\n",
              "    <tr>\n",
              "      <th>Date</th>\n",
              "      <th></th>\n",
              "    </tr>\n",
              "  </thead>\n",
              "  <tbody>\n",
              "    <tr>\n",
              "      <th>2020-06-15</th>\n",
              "      <td>352.079987</td>\n",
              "    </tr>\n",
              "    <tr>\n",
              "      <th>2020-06-16</th>\n",
              "      <td>351.589996</td>\n",
              "    </tr>\n",
              "    <tr>\n",
              "      <th>2020-06-17</th>\n",
              "      <td>351.730011</td>\n",
              "    </tr>\n",
              "    <tr>\n",
              "      <th>2020-06-18</th>\n",
              "      <td>349.720001</td>\n",
              "    </tr>\n",
              "    <tr>\n",
              "      <th>2020-06-19</th>\n",
              "      <td>358.869995</td>\n",
              "    </tr>\n",
              "  </tbody>\n",
              "</table>\n",
              "</div>"
            ],
            "text/plain": [
              "                 Close\n",
              "Date                  \n",
              "2020-06-15  352.079987\n",
              "2020-06-16  351.589996\n",
              "2020-06-17  351.730011\n",
              "2020-06-18  349.720001\n",
              "2020-06-19  358.869995"
            ]
          },
          "metadata": {
            "tags": []
          }
        },
        {
          "output_type": "stream",
          "text": [
            "\n",
            " -----After process------ \n",
            "\n",
            "Shape of features :  (2041, 4)\n",
            "Shape of target :  (2041, 1)\n"
          ],
          "name": "stdout"
        },
        {
          "output_type": "display_data",
          "data": {
            "text/html": [
              "<div>\n",
              "<style scoped>\n",
              "    .dataframe tbody tr th:only-of-type {\n",
              "        vertical-align: middle;\n",
              "    }\n",
              "\n",
              "    .dataframe tbody tr th {\n",
              "        vertical-align: top;\n",
              "    }\n",
              "\n",
              "    .dataframe thead th {\n",
              "        text-align: right;\n",
              "    }\n",
              "</style>\n",
              "<table border=\"1\" class=\"dataframe\">\n",
              "  <thead>\n",
              "    <tr style=\"text-align: right;\">\n",
              "      <th></th>\n",
              "      <th>Close</th>\n",
              "    </tr>\n",
              "    <tr>\n",
              "      <th>Date</th>\n",
              "      <th></th>\n",
              "    </tr>\n",
              "  </thead>\n",
              "  <tbody>\n",
              "    <tr>\n",
              "      <th>2020-02-06</th>\n",
              "      <td>320.029999</td>\n",
              "    </tr>\n",
              "    <tr>\n",
              "      <th>2020-02-07</th>\n",
              "      <td>321.549988</td>\n",
              "    </tr>\n",
              "    <tr>\n",
              "      <th>2020-02-10</th>\n",
              "      <td>319.609985</td>\n",
              "    </tr>\n",
              "    <tr>\n",
              "      <th>2020-02-11</th>\n",
              "      <td>327.200012</td>\n",
              "    </tr>\n",
              "    <tr>\n",
              "      <th>2020-02-12</th>\n",
              "      <td>324.869995</td>\n",
              "    </tr>\n",
              "  </tbody>\n",
              "</table>\n",
              "</div>"
            ],
            "text/plain": [
              "                 Close\n",
              "Date                  \n",
              "2020-02-06  320.029999\n",
              "2020-02-07  321.549988\n",
              "2020-02-10  319.609985\n",
              "2020-02-11  327.200012\n",
              "2020-02-12  324.869995"
            ]
          },
          "metadata": {
            "tags": []
          }
        }
      ]
    },
    {
      "cell_type": "markdown",
      "metadata": {
        "id": "Sru6qhxvUXWD",
        "colab_type": "text"
      },
      "source": [
        "**Train test Split using Timeseriessplit**"
      ]
    },
    {
      "cell_type": "code",
      "metadata": {
        "id": "ht4Oi-hjTg8S",
        "colab_type": "code",
        "colab": {}
      },
      "source": [
        "ts_split= TimeSeriesSplit(n_splits=10)\n",
        "for train_index, test_index in ts_split.split(feature_minmax_transform):\n",
        "        X_train, X_test = feature_minmax_transform[:len(train_index)], feature_minmax_transform[len(train_index): (len(train_index)+len(test_index))]\n",
        "        y_train, y_test = target_close[:len(train_index)].values.ravel(), target_close[len(train_index): (len(train_index)+len(test_index))].values.ravel()"
      ],
      "execution_count": null,
      "outputs": []
    },
    {
      "cell_type": "code",
      "metadata": {
        "id": "2RX2KRqTUrag",
        "colab_type": "code",
        "colab": {
          "base_uri": "https://localhost:8080/",
          "height": 86
        },
        "outputId": "1bc7bf39-0298-43bb-8cdb-12d703e1d72f"
      },
      "source": [
        "print('Shape of X_train :', X_train.shape)\n",
        "print('Shape of y_train :', y_train.shape)\n",
        "print('Shape of X_test :', X_test.shape)\n",
        "print('Shape of y_test :', y_test.shape)"
      ],
      "execution_count": null,
      "outputs": [
        {
          "output_type": "stream",
          "text": [
            "Shape of X_train : (1856, 4)\n",
            "Shape of y_train : (1856,)\n",
            "Shape of X_test : (185, 4)\n",
            "Shape of y_test : (185,)\n"
          ],
          "name": "stdout"
        }
      ]
    },
    {
      "cell_type": "markdown",
      "metadata": {
        "id": "V7863TVSA3Sb",
        "colab_type": "text"
      },
      "source": [
        " **Benchmark Model**\n",
        "\n",
        "1.   Linear Regression\n",
        "2.   SVR Regressor\n",
        "3.   Randomforest Regressor\n",
        "4.   Decision Tree"
      ]
    },
    {
      "cell_type": "markdown",
      "metadata": {
        "id": "PlO7rIgIA65C",
        "colab_type": "text"
      },
      "source": [
        "\n",
        "**1.   Linear Regression**"
      ]
    },
    {
      "cell_type": "code",
      "metadata": {
        "id": "No0oz1lHA1C6",
        "colab_type": "code",
        "colab": {
          "base_uri": "https://localhost:8080/",
          "height": 51
        },
        "outputId": "7791be07-64e4-48d8-f708-19cee6b66f90"
      },
      "source": [
        "from sklearn.linear_model import LinearRegression\n",
        "\n",
        "LinReg = LinearRegression()\n",
        "LinReg.fit(X_train,y_train)\n",
        "\n",
        "print(\"R2 of Linear Regresson:\", LinReg.score(X_train,y_train) )\n",
        "print('RMSE:',np.sqrt(metrics.mean_squared_error(y_test, LinReg.predict(X_test))))"
      ],
      "execution_count": null,
      "outputs": [
        {
          "output_type": "stream",
          "text": [
            "R2 of Linear Regresson: 0.997630801150841\n",
            "RMSE: 3.9917800286468044\n"
          ],
          "name": "stdout"
        }
      ]
    },
    {
      "cell_type": "code",
      "metadata": {
        "id": "V4R6qDzEBauv",
        "colab_type": "code",
        "colab": {
          "base_uri": "https://localhost:8080/",
          "height": 281
        },
        "outputId": "bff9ec31-28c7-478e-8a3f-213cbc339dbb"
      },
      "source": [
        "# Creating a Histogram of Residuals\n",
        "plt.figure(figsize=(6,4))\n",
        "sns.distplot(y_test - LinReg.predict(X_test))\n",
        "plt.title('Distribution of residuals');"
      ],
      "execution_count": null,
      "outputs": [
        {
          "output_type": "display_data",
          "data": {
            "image/png": "[encoded data removed]",
            "text/plain": [
              "<Figure size 432x288 with 1 Axes>"
            ]
          },
          "metadata": {
            "tags": [],
            "needs_background": "light"
          }
        }
      ]
    },
    {
      "cell_type": "code",
      "metadata": {
        "id": "zyuAweYpBfNm",
        "colab_type": "code",
        "colab": {
          "base_uri": "https://localhost:8080/",
          "height": 282
        },
        "outputId": "8a255632-48bb-41b2-9898-74d76e421f5f"
      },
      "source": [
        "plt.scatter(y_test,LinReg.predict(X_test))"
      ],
      "execution_count": null,
      "outputs": [
        {
          "output_type": "execute_result",
          "data": {
            "text/plain": [
              "<matplotlib.collections.PathCollection at 0x7f06301f0d68>"
            ]
          },
          "metadata": {
            "tags": []
          },
          "execution_count": 29
        },
        {
          "output_type": "display_data",
          "data": {
            "image/png": "[encoded data removed]",
            "text/plain": [
              "<Figure size 432x288 with 1 Axes>"
            ]
          },
          "metadata": {
            "tags": [],
            "needs_background": "light"
          }
        }
      ]
    },
    {
      "cell_type": "markdown",
      "metadata": {
        "id": "HHfVwMyIIRdW",
        "colab_type": "text"
      },
      "source": [
        "2. SVR Regressor Model"
      ]
    },
    {
      "cell_type": "code",
      "metadata": {
        "id": "IP1Crd7vIIjq",
        "colab_type": "code",
        "colab": {
          "base_uri": "https://localhost:8080/",
          "height": 86
        },
        "outputId": "d01ec305-ad5a-4521-93b4-e409906a592a"
      },
      "source": [
        "from sklearn.svm import SVR\n",
        "\n",
        "# First, let's choose which kernel is the best for our data\n",
        "\n",
        "for k in ['linear','poly','rbf','sigmoid']:\n",
        "    clf = svm.SVR(kernel=k)\n",
        "    clf.fit(X_train, y_train)\n",
        "    confidence = clf.score(X_train, y_train)\n",
        "    print(k,confidence)"
      ],
      "execution_count": null,
      "outputs": [
        {
          "output_type": "stream",
          "text": [
            "linear 0.9966415904399969\n",
            "poly 0.8080364119951282\n",
            "rbf 0.9868728241783823\n",
            "sigmoid -4.879299239408818\n"
          ],
          "name": "stdout"
        }
      ]
    },
    {
      "cell_type": "code",
      "metadata": {
        "id": "-Y2lbAedIcwo",
        "colab_type": "code",
        "colab": {
          "base_uri": "https://localhost:8080/",
          "height": 51
        },
        "outputId": "77b3da4e-c015-4bf8-9863-e99481628be7"
      },
      "source": [
        "Svr=SVR(kernel='rbf', C=1, gamma= 0.5)   # Parameter Tuning to get the best accuracy\n",
        "\n",
        "Svr.fit(X_train,y_train)\n",
        "\n",
        "print(\"R2 of Linear Regresson:\", Svr.score(X_train,y_train) )\n",
        "print('RMSE:',np.sqrt(metrics.mean_squared_error(y_test, Svr.predict(X_test))))"
      ],
      "execution_count": null,
      "outputs": [
        {
          "output_type": "stream",
          "text": [
            "R2 of Linear Regresson: 0.9932086345818785\n",
            "RMSE: 38.1348119988836\n"
          ],
          "name": "stdout"
        }
      ]
    },
    {
      "cell_type": "code",
      "metadata": {
        "id": "GzKrqjZ6I24l",
        "colab_type": "code",
        "colab": {
          "base_uri": "https://localhost:8080/",
          "height": 281
        },
        "outputId": "c52570d3-f1c7-4ad2-c6b0-0e29f7337851"
      },
      "source": [
        "# Creating a Histogram of Residuals\n",
        "plt.figure(figsize=(6,4))\n",
        "sns.distplot(y_test - Svr.predict(X_test))\n",
        "plt.title('Distribution of residuals');"
      ],
      "execution_count": null,
      "outputs": [
        {
          "output_type": "display_data",
          "data": {
            "image/png": "[encoded data removed]",
            "text/plain": [
              "<Figure size 432x288 with 1 Axes>"
            ]
          },
          "metadata": {
            "tags": [],
            "needs_background": "light"
          }
        }
      ]
    },
    {
      "cell_type": "code",
      "metadata": {
        "id": "8fxmhkwEJEX1",
        "colab_type": "code",
        "colab": {
          "base_uri": "https://localhost:8080/",
          "height": 282
        },
        "outputId": "a5d6ab88-80f3-4aae-86b4-04d6245e330b"
      },
      "source": [
        "plt.scatter(y_test,Svr.predict(X_test))"
      ],
      "execution_count": null,
      "outputs": [
        {
          "output_type": "execute_result",
          "data": {
            "text/plain": [
              "<matplotlib.collections.PathCollection at 0x7f05db7ec9e8>"
            ]
          },
          "metadata": {
            "tags": []
          },
          "execution_count": 48
        },
        {
          "output_type": "display_data",
          "data": {
            "image/png": "[encoded data removed]",
            "text/plain": [
              "<Figure size 432x288 with 1 Axes>"
            ]
          },
          "metadata": {
            "tags": [],
            "needs_background": "light"
          }
        }
      ]
    },
    {
      "cell_type": "markdown",
      "metadata": {
        "id": "5S_LvgsbJfg2",
        "colab_type": "text"
      },
      "source": [
        "**4. Randomforest Regressor**"
      ]
    },
    {
      "cell_type": "code",
      "metadata": {
        "id": "wnOGIAgcJdK-",
        "colab_type": "code",
        "colab": {
          "base_uri": "https://localhost:8080/",
          "height": 51
        },
        "outputId": "04dc7a92-37b1-4a96-c38f-b4cc16b53d97"
      },
      "source": [
        "from sklearn.ensemble import RandomForestRegressor\n",
        "RForest = RandomForestRegressor()\n",
        "RForest.fit(X_train,y_train)\n",
        "print(\"R2 of Linear Regresson:\", RForest.score(X_train,y_train) )\n",
        "print('RMSE:',np.sqrt(metrics.mean_squared_error(y_test, RForest.predict(X_test))))"
      ],
      "execution_count": null,
      "outputs": [
        {
          "output_type": "stream",
          "text": [
            "R2 of Linear Regresson: 0.9995640742978333\n",
            "RMSE: 41.23747665617005\n"
          ],
          "name": "stdout"
        }
      ]
    },
    {
      "cell_type": "code",
      "metadata": {
        "id": "l5itRH5HJ2gj",
        "colab_type": "code",
        "colab": {
          "base_uri": "https://localhost:8080/",
          "height": 281
        },
        "outputId": "ec892055-2e4b-4181-e53c-98c6e0affe21"
      },
      "source": [
        "# Creating a Histogram of Residuals\n",
        "plt.figure(figsize=(6,4))\n",
        "sns.distplot(y_test - RForest.predict(X_test))\n",
        "plt.title('Distribution of residuals');"
      ],
      "execution_count": null,
      "outputs": [
        {
          "output_type": "display_data",
          "data": {
            "image/png": "[encoded data removed]",
            "text/plain": [
              "<Figure size 432x288 with 1 Axes>"
            ]
          },
          "metadata": {
            "tags": [],
            "needs_background": "light"
          }
        }
      ]
    },
    {
      "cell_type": "code",
      "metadata": {
        "id": "TSEKHtFOJ-z0",
        "colab_type": "code",
        "colab": {
          "base_uri": "https://localhost:8080/",
          "height": 282
        },
        "outputId": "3967464a-4ffb-44c3-db46-a4f676f7f654"
      },
      "source": [
        "plt.scatter(y_test,RForest.predict(X_test))"
      ],
      "execution_count": null,
      "outputs": [
        {
          "output_type": "execute_result",
          "data": {
            "text/plain": [
              "<matplotlib.collections.PathCollection at 0x7f05db6a76d8>"
            ]
          },
          "metadata": {
            "tags": []
          },
          "execution_count": 51
        },
        {
          "output_type": "display_data",
          "data": {
            "image/png": "[encoded data removed]",
            "text/plain": [
              "<Figure size 432x288 with 1 Axes>"
            ]
          },
          "metadata": {
            "tags": [],
            "needs_background": "light"
          }
        }
      ]
    },
    {
      "cell_type": "markdown",
      "metadata": {
        "id": "64EfR3BMH5wz",
        "colab_type": "text"
      },
      "source": [
        "**4. Decision Tree**"
      ]
    },
    {
      "cell_type": "code",
      "metadata": {
        "id": "WB-vVvUPDVUe",
        "colab_type": "code",
        "colab": {
          "base_uri": "https://localhost:8080/",
          "height": 51
        },
        "outputId": "ee470088-afea-4758-9236-17dbab5fd920"
      },
      "source": [
        "from sklearn.tree import DecisionTreeRegressor\n",
        "\n",
        "dt = DecisionTreeRegressor()\n",
        "\n",
        "dt.fit(X_train, y_train)\n",
        "\n",
        "print(\"R2 of Linear Regresson:\", dt.score(X_train,y_train) )\n",
        "print('RMSE:',np.sqrt(metrics.mean_squared_error(y_test, dt.predict(X_test))))"
      ],
      "execution_count": null,
      "outputs": [
        {
          "output_type": "stream",
          "text": [
            "R2 of Linear Regresson: 1.0\n",
            "RMSE: 41.54591826398387\n"
          ],
          "name": "stdout"
        }
      ]
    },
    {
      "cell_type": "code",
      "metadata": {
        "id": "UZivTUprHlS0",
        "colab_type": "code",
        "colab": {
          "base_uri": "https://localhost:8080/",
          "height": 281
        },
        "outputId": "48d5b9ce-3147-4090-bcfb-c7b0540c6264"
      },
      "source": [
        "# Creating a Histogram of Residuals\n",
        "plt.figure(figsize=(6,4))\n",
        "sns.distplot(y_test - dt.predict(X_test))\n",
        "plt.title('Distribution of residuals');"
      ],
      "execution_count": null,
      "outputs": [
        {
          "output_type": "display_data",
          "data": {
            "image/png": "[encoded data removed]",
            "text/plain": [
              "<Figure size 432x288 with 1 Axes>"
            ]
          },
          "metadata": {
            "tags": [],
            "needs_background": "light"
          }
        }
      ]
    },
    {
      "cell_type": "code",
      "metadata": {
        "id": "6rj6q2d_Ht2O",
        "colab_type": "code",
        "colab": {
          "base_uri": "https://localhost:8080/",
          "height": 282
        },
        "outputId": "b451c8ac-e07d-4739-eff9-9d19aec56f1e"
      },
      "source": [
        "plt.scatter(y_test,dt.predict(X_test))"
      ],
      "execution_count": null,
      "outputs": [
        {
          "output_type": "execute_result",
          "data": {
            "text/plain": [
              "<matplotlib.collections.PathCollection at 0x7f05dbdcdc18>"
            ]
          },
          "metadata": {
            "tags": []
          },
          "execution_count": 40
        },
        {
          "output_type": "display_data",
          "data": {
            "image/png": "[encoded data removed]",
            "text/plain": [
              "<Figure size 432x288 with 1 Axes>"
            ]
          },
          "metadata": {
            "tags": [],
            "needs_background": "light"
          }
        }
      ]
    },
    {
      "cell_type": "markdown",
      "metadata": {
        "id": "3uK7nU4HWsLF",
        "colab_type": "text"
      },
      "source": [
        "**Process the data for LSTM**"
      ]
    },
    {
      "cell_type": "code",
      "metadata": {
        "id": "EHW9GvQ5V8IN",
        "colab_type": "code",
        "colab": {}
      },
      "source": [
        "X_train =np.array(X_train)\n",
        "X_test =np.array(X_test)\n",
        "\n",
        "X_tr_t = X_train.reshape(X_train.shape[0], 1, X_train.shape[1])\n",
        "X_tst_t = X_test.reshape(X_test.shape[0], 1, X_test.shape[1])"
      ],
      "execution_count": null,
      "outputs": []
    },
    {
      "cell_type": "markdown",
      "metadata": {
        "id": "eW8kpFaIW4k7",
        "colab_type": "text"
      },
      "source": [
        "\n",
        "**Model building : LSTM**"
      ]
    },
    {
      "cell_type": "code",
      "metadata": {
        "id": "4LU_AKt6WyKc",
        "colab_type": "code",
        "colab": {
          "base_uri": "https://localhost:8080/",
          "height": 1000
        },
        "outputId": "883e50ff-341d-405d-e591-8797b778931e"
      },
      "source": [
        "from keras.models import Sequential\n",
        "from keras.layers import Dense\n",
        "import keras.backend as K\n",
        "from keras.callbacks import EarlyStopping\n",
        "from keras.optimizers import Adam\n",
        "from keras.models import load_model\n",
        "from keras.layers import LSTM\n",
        "K.clear_session()\n",
        "model_lstm = Sequential()\n",
        "model_lstm.add(LSTM(16, input_shape=(1, X_train.shape[1]), activation='relu', return_sequences=False))\n",
        "model_lstm.add(Dense(1))\n",
        "model_lstm.compile(loss='mean_squared_error', optimizer='adam')\n",
        "early_stop = EarlyStopping(monitor='loss', patience=5, verbose=1)\n",
        "history_model_lstm = model_lstm.fit(X_tr_t, y_train, epochs=200, batch_size=8, verbose=1, shuffle=False, callbacks=[early_stop])"
      ],
      "execution_count": null,
      "outputs": [
        {
          "output_type": "stream",
          "text": [
            "Epoch 1/200\n",
            "1856/1856 [==============================] - 2s 1ms/step - loss: 15678.6307\n",
            "Epoch 2/200\n",
            "1856/1856 [==============================] - 2s 850us/step - loss: 14973.2918\n",
            "Epoch 3/200\n",
            "1856/1856 [==============================] - 2s 839us/step - loss: 13611.6301\n",
            "Epoch 4/200\n",
            "1856/1856 [==============================] - 2s 862us/step - loss: 11691.3391\n",
            "Epoch 5/200\n",
            "1856/1856 [==============================] - 2s 864us/step - loss: 9515.6230\n",
            "Epoch 6/200\n",
            "1856/1856 [==============================] - 2s 846us/step - loss: 7364.7810\n",
            "Epoch 7/200\n",
            "1856/1856 [==============================] - 2s 841us/step - loss: 5430.6242\n",
            "Epoch 8/200\n",
            "1856/1856 [==============================] - 2s 850us/step - loss: 3822.2294\n",
            "Epoch 9/200\n",
            "1856/1856 [==============================] - 2s 857us/step - loss: 2581.3317\n",
            "Epoch 10/200\n",
            "1856/1856 [==============================] - 2s 827us/step - loss: 1695.9067\n",
            "Epoch 11/200\n",
            "1856/1856 [==============================] - 2s 861us/step - loss: 1114.3610\n",
            "Epoch 12/200\n",
            "1856/1856 [==============================] - 2s 828us/step - loss: 762.8328\n",
            "Epoch 13/200\n",
            "1856/1856 [==============================] - 2s 843us/step - loss: 564.2022\n",
            "Epoch 14/200\n",
            "1856/1856 [==============================] - 2s 829us/step - loss: 454.2585\n",
            "Epoch 15/200\n",
            "1856/1856 [==============================] - 2s 842us/step - loss: 388.1603\n",
            "Epoch 16/200\n",
            "1856/1856 [==============================] - 2s 840us/step - loss: 339.8035\n",
            "Epoch 17/200\n",
            "1856/1856 [==============================] - 2s 857us/step - loss: 296.4985\n",
            "Epoch 18/200\n",
            "1856/1856 [==============================] - 2s 868us/step - loss: 254.6009\n",
            "Epoch 19/200\n",
            "1856/1856 [==============================] - 2s 845us/step - loss: 213.5601\n",
            "Epoch 20/200\n",
            "1856/1856 [==============================] - 2s 844us/step - loss: 174.7036\n",
            "Epoch 21/200\n",
            "1856/1856 [==============================] - 2s 841us/step - loss: 139.2077\n",
            "Epoch 22/200\n",
            "1856/1856 [==============================] - 2s 873us/step - loss: 107.9926\n",
            "Epoch 23/200\n",
            "1856/1856 [==============================] - 2s 811us/step - loss: 81.5134\n",
            "Epoch 24/200\n",
            "1856/1856 [==============================] - 2s 901us/step - loss: 59.9773\n",
            "Epoch 25/200\n",
            "1856/1856 [==============================] - 2s 931us/step - loss: 43.2557\n",
            "Epoch 26/200\n",
            "1856/1856 [==============================] - 2s 919us/step - loss: 30.9232\n",
            "Epoch 27/200\n",
            "1856/1856 [==============================] - 2s 903us/step - loss: 22.3233\n",
            "Epoch 28/200\n",
            "1856/1856 [==============================] - 2s 927us/step - loss: 16.6694\n",
            "Epoch 29/200\n",
            "1856/1856 [==============================] - 2s 905us/step - loss: 13.1488\n",
            "Epoch 30/200\n",
            "1856/1856 [==============================] - 2s 894us/step - loss: 11.0269\n",
            "Epoch 31/200\n",
            "1856/1856 [==============================] - 2s 852us/step - loss: 9.7458\n",
            "Epoch 32/200\n",
            "1856/1856 [==============================] - 2s 839us/step - loss: 8.9340\n",
            "Epoch 33/200\n",
            "1856/1856 [==============================] - 2s 838us/step - loss: 8.3807\n",
            "Epoch 34/200\n",
            "1856/1856 [==============================] - 2s 834us/step - loss: 7.9563\n",
            "Epoch 35/200\n",
            "1856/1856 [==============================] - 2s 851us/step - loss: 7.6037\n",
            "Epoch 36/200\n",
            "1856/1856 [==============================] - 2s 843us/step - loss: 7.2961\n",
            "Epoch 37/200\n",
            "1856/1856 [==============================] - 2s 860us/step - loss: 7.0367\n",
            "Epoch 38/200\n",
            "1856/1856 [==============================] - 2s 859us/step - loss: 6.8063\n",
            "Epoch 39/200\n",
            "1856/1856 [==============================] - 2s 825us/step - loss: 6.5949\n",
            "Epoch 40/200\n",
            "1856/1856 [==============================] - 2s 829us/step - loss: 6.4034\n",
            "Epoch 41/200\n",
            "1856/1856 [==============================] - 2s 813us/step - loss: 6.2311\n",
            "Epoch 42/200\n",
            "1856/1856 [==============================] - 2s 851us/step - loss: 6.0775\n",
            "Epoch 43/200\n",
            "1856/1856 [==============================] - 2s 821us/step - loss: 5.9426\n",
            "Epoch 44/200\n",
            "1856/1856 [==============================] - 2s 826us/step - loss: 5.8236\n",
            "Epoch 45/200\n",
            "1856/1856 [==============================] - 2s 836us/step - loss: 5.7198\n",
            "Epoch 46/200\n",
            "1856/1856 [==============================] - 2s 857us/step - loss: 5.6296\n",
            "Epoch 47/200\n",
            "1856/1856 [==============================] - 2s 844us/step - loss: 5.5528\n",
            "Epoch 48/200\n",
            "1856/1856 [==============================] - 2s 851us/step - loss: 5.4870\n",
            "Epoch 49/200\n",
            "1856/1856 [==============================] - 2s 841us/step - loss: 5.4312\n",
            "Epoch 50/200\n",
            "1856/1856 [==============================] - 2s 827us/step - loss: 5.3844\n",
            "Epoch 51/200\n",
            "1856/1856 [==============================] - 2s 866us/step - loss: 5.3452\n",
            "Epoch 52/200\n",
            "1856/1856 [==============================] - 2s 857us/step - loss: 5.3117\n",
            "Epoch 53/200\n",
            "1856/1856 [==============================] - 2s 859us/step - loss: 5.2838\n",
            "Epoch 54/200\n",
            "1856/1856 [==============================] - 2s 861us/step - loss: 5.2603\n",
            "Epoch 55/200\n",
            "1856/1856 [==============================] - 2s 872us/step - loss: 5.2396\n",
            "Epoch 56/200\n",
            "1856/1856 [==============================] - 2s 871us/step - loss: 5.2221\n",
            "Epoch 57/200\n",
            "1856/1856 [==============================] - 2s 871us/step - loss: 5.2069\n",
            "Epoch 58/200\n",
            "1856/1856 [==============================] - 2s 922us/step - loss: 5.1936\n",
            "Epoch 59/200\n",
            "1856/1856 [==============================] - 2s 819us/step - loss: 5.1813\n",
            "Epoch 60/200\n",
            "1856/1856 [==============================] - 2s 833us/step - loss: 5.1705\n",
            "Epoch 61/200\n",
            "1856/1856 [==============================] - 2s 829us/step - loss: 5.1608\n",
            "Epoch 62/200\n",
            "1856/1856 [==============================] - 2s 847us/step - loss: 5.1520\n",
            "Epoch 63/200\n",
            "1856/1856 [==============================] - 2s 852us/step - loss: 5.1440\n",
            "Epoch 64/200\n",
            "1856/1856 [==============================] - 2s 858us/step - loss: 5.1368\n",
            "Epoch 65/200\n",
            "1856/1856 [==============================] - 2s 848us/step - loss: 5.1301\n",
            "Epoch 66/200\n",
            "1856/1856 [==============================] - 2s 853us/step - loss: 5.1240\n",
            "Epoch 67/200\n",
            "1856/1856 [==============================] - 2s 835us/step - loss: 5.1185\n",
            "Epoch 68/200\n",
            "1856/1856 [==============================] - 2s 828us/step - loss: 5.1133\n",
            "Epoch 69/200\n",
            "1856/1856 [==============================] - 2s 861us/step - loss: 5.1086\n",
            "Epoch 70/200\n",
            "1856/1856 [==============================] - 2s 877us/step - loss: 5.1043\n",
            "Epoch 71/200\n",
            "1856/1856 [==============================] - 2s 879us/step - loss: 5.1003\n",
            "Epoch 72/200\n",
            "1856/1856 [==============================] - 2s 873us/step - loss: 5.0967\n",
            "Epoch 73/200\n",
            "1856/1856 [==============================] - 2s 881us/step - loss: 5.0933\n",
            "Epoch 74/200\n",
            "1856/1856 [==============================] - 2s 862us/step - loss: 5.0902\n",
            "Epoch 75/200\n",
            "1856/1856 [==============================] - 2s 866us/step - loss: 5.0873\n",
            "Epoch 76/200\n",
            "1856/1856 [==============================] - 2s 900us/step - loss: 5.0847\n",
            "Epoch 77/200\n",
            "1856/1856 [==============================] - 2s 897us/step - loss: 5.0823\n",
            "Epoch 78/200\n",
            "1856/1856 [==============================] - 2s 884us/step - loss: 5.0800\n",
            "Epoch 79/200\n",
            "1856/1856 [==============================] - 2s 863us/step - loss: 5.0779\n",
            "Epoch 80/200\n",
            "1856/1856 [==============================] - 2s 863us/step - loss: 5.0760\n",
            "Epoch 81/200\n",
            "1856/1856 [==============================] - 2s 897us/step - loss: 5.0742\n",
            "Epoch 82/200\n",
            "1856/1856 [==============================] - 2s 820us/step - loss: 5.0725\n",
            "Epoch 83/200\n",
            "1856/1856 [==============================] - 2s 846us/step - loss: 5.0709\n",
            "Epoch 84/200\n",
            "1856/1856 [==============================] - 2s 853us/step - loss: 5.0695\n",
            "Epoch 85/200\n",
            "1856/1856 [==============================] - 2s 865us/step - loss: 5.0681\n",
            "Epoch 86/200\n",
            "1856/1856 [==============================] - 2s 844us/step - loss: 5.0668\n",
            "Epoch 87/200\n",
            "1856/1856 [==============================] - 2s 860us/step - loss: 5.0657\n",
            "Epoch 88/200\n",
            "1856/1856 [==============================] - 2s 863us/step - loss: 5.0642\n",
            "Epoch 89/200\n",
            "1856/1856 [==============================] - 2s 827us/step - loss: 5.0635\n",
            "Epoch 90/200\n",
            "1856/1856 [==============================] - 2s 855us/step - loss: 5.0623\n",
            "Epoch 91/200\n",
            "1856/1856 [==============================] - 2s 867us/step - loss: 5.0614\n",
            "Epoch 92/200\n",
            "1856/1856 [==============================] - 2s 845us/step - loss: 5.0607\n",
            "Epoch 93/200\n",
            "1856/1856 [==============================] - 2s 850us/step - loss: 5.0596\n",
            "Epoch 94/200\n",
            "1856/1856 [==============================] - 2s 858us/step - loss: 5.0587\n",
            "Epoch 95/200\n",
            "1856/1856 [==============================] - 2s 841us/step - loss: 5.0582\n",
            "Epoch 96/200\n",
            "1856/1856 [==============================] - 2s 852us/step - loss: 5.0575\n",
            "Epoch 97/200\n",
            "1856/1856 [==============================] - 2s 835us/step - loss: 5.0565\n",
            "Epoch 98/200\n",
            "1856/1856 [==============================] - 2s 885us/step - loss: 5.0558\n",
            "Epoch 99/200\n",
            "1856/1856 [==============================] - 2s 841us/step - loss: 5.0552\n",
            "Epoch 100/200\n",
            "1856/1856 [==============================] - 2s 828us/step - loss: 5.0548\n",
            "Epoch 101/200\n",
            "1856/1856 [==============================] - 2s 832us/step - loss: 5.0540\n",
            "Epoch 102/200\n",
            "1856/1856 [==============================] - 2s 819us/step - loss: 5.0535\n",
            "Epoch 103/200\n",
            "1856/1856 [==============================] - 2s 829us/step - loss: 5.0527\n",
            "Epoch 104/200\n",
            "1856/1856 [==============================] - 2s 836us/step - loss: 5.0524\n",
            "Epoch 105/200\n",
            "1856/1856 [==============================] - 2s 856us/step - loss: 5.0518\n",
            "Epoch 106/200\n",
            "1856/1856 [==============================] - 2s 857us/step - loss: 5.0514\n",
            "Epoch 107/200\n",
            "1856/1856 [==============================] - 2s 824us/step - loss: 5.0504\n",
            "Epoch 108/200\n",
            "1856/1856 [==============================] - 2s 833us/step - loss: 5.0500\n",
            "Epoch 109/200\n",
            "1856/1856 [==============================] - 2s 843us/step - loss: 5.0497\n",
            "Epoch 110/200\n",
            "1856/1856 [==============================] - 2s 838us/step - loss: 5.0494\n",
            "Epoch 111/200\n",
            "1856/1856 [==============================] - 2s 848us/step - loss: 5.0487\n",
            "Epoch 112/200\n",
            "1856/1856 [==============================] - 2s 858us/step - loss: 5.0479\n",
            "Epoch 113/200\n",
            "1856/1856 [==============================] - 2s 858us/step - loss: 5.0478\n",
            "Epoch 114/200\n",
            "1856/1856 [==============================] - 2s 841us/step - loss: 5.0473\n",
            "Epoch 115/200\n",
            "1856/1856 [==============================] - 2s 820us/step - loss: 5.0469\n",
            "Epoch 116/200\n",
            "1856/1856 [==============================] - 2s 821us/step - loss: 5.0460\n",
            "Epoch 117/200\n",
            "1856/1856 [==============================] - 2s 850us/step - loss: 5.0460\n",
            "Epoch 118/200\n",
            "1856/1856 [==============================] - 2s 847us/step - loss: 5.0457\n",
            "Epoch 119/200\n",
            "1856/1856 [==============================] - 2s 840us/step - loss: 5.0448\n",
            "Epoch 120/200\n",
            "1856/1856 [==============================] - 2s 818us/step - loss: 5.0444\n",
            "Epoch 121/200\n",
            "1856/1856 [==============================] - 2s 843us/step - loss: 5.0444\n",
            "Epoch 122/200\n",
            "1856/1856 [==============================] - 2s 824us/step - loss: 5.0438\n",
            "Epoch 123/200\n",
            "1856/1856 [==============================] - 2s 823us/step - loss: 5.0432\n",
            "Epoch 124/200\n",
            "1856/1856 [==============================] - 2s 854us/step - loss: 5.0426\n",
            "Epoch 125/200\n",
            "1856/1856 [==============================] - 2s 847us/step - loss: 5.0425\n",
            "Epoch 126/200\n",
            "1856/1856 [==============================] - 2s 853us/step - loss: 5.0422\n",
            "Epoch 127/200\n",
            "1856/1856 [==============================] - 2s 841us/step - loss: 5.0412\n",
            "Epoch 128/200\n",
            "1856/1856 [==============================] - 2s 850us/step - loss: 5.0414\n",
            "Epoch 129/200\n",
            "1856/1856 [==============================] - 2s 845us/step - loss: 5.0407\n",
            "Epoch 130/200\n",
            "1856/1856 [==============================] - 2s 828us/step - loss: 5.0403\n",
            "Epoch 131/200\n",
            "1856/1856 [==============================] - 2s 833us/step - loss: 5.0399\n",
            "Epoch 132/200\n",
            "1856/1856 [==============================] - 2s 834us/step - loss: 5.0393\n",
            "Epoch 133/200\n",
            "1856/1856 [==============================] - 2s 831us/step - loss: 5.0393\n",
            "Epoch 134/200\n",
            "1856/1856 [==============================] - 2s 869us/step - loss: 5.0390\n",
            "Epoch 135/200\n",
            "1856/1856 [==============================] - 2s 815us/step - loss: 5.0380\n",
            "Epoch 136/200\n",
            "1856/1856 [==============================] - 2s 839us/step - loss: 5.0382\n",
            "Epoch 137/200\n",
            "1856/1856 [==============================] - 2s 850us/step - loss: 5.0371\n",
            "Epoch 138/200\n",
            "1856/1856 [==============================] - 2s 848us/step - loss: 5.0371\n",
            "Epoch 139/200\n",
            "1856/1856 [==============================] - 2s 819us/step - loss: 5.0370\n",
            "Epoch 140/200\n",
            "1856/1856 [==============================] - 2s 826us/step - loss: 5.0363\n",
            "Epoch 141/200\n",
            "1856/1856 [==============================] - 2s 930us/step - loss: 5.0360\n",
            "Epoch 142/200\n",
            "1856/1856 [==============================] - 2s 944us/step - loss: 5.0353\n",
            "Epoch 143/200\n",
            "1856/1856 [==============================] - 2s 905us/step - loss: 5.0349\n",
            "Epoch 144/200\n",
            "1856/1856 [==============================] - 2s 847us/step - loss: 5.0350\n",
            "Epoch 145/200\n",
            "1856/1856 [==============================] - 2s 845us/step - loss: 5.0341\n",
            "Epoch 146/200\n",
            "1856/1856 [==============================] - 2s 850us/step - loss: 5.0341\n",
            "Epoch 147/200\n",
            "1856/1856 [==============================] - 2s 863us/step - loss: 5.0335\n",
            "Epoch 148/200\n",
            "1856/1856 [==============================] - 2s 811us/step - loss: 5.0333\n",
            "Epoch 149/200\n",
            "1856/1856 [==============================] - 2s 862us/step - loss: 5.0327\n",
            "Epoch 150/200\n",
            "1856/1856 [==============================] - 2s 843us/step - loss: 5.0321\n",
            "Epoch 151/200\n",
            "1856/1856 [==============================] - 2s 862us/step - loss: 5.0323\n",
            "Epoch 152/200\n",
            "1856/1856 [==============================] - 2s 848us/step - loss: 5.0318\n",
            "Epoch 153/200\n",
            "1856/1856 [==============================] - 2s 858us/step - loss: 5.0309\n",
            "Epoch 154/200\n",
            "1856/1856 [==============================] - 2s 866us/step - loss: 5.0310\n",
            "Epoch 155/200\n",
            "1856/1856 [==============================] - 2s 861us/step - loss: 5.0304\n",
            "Epoch 156/200\n",
            "1856/1856 [==============================] - 2s 830us/step - loss: 5.0298\n",
            "Epoch 157/200\n",
            "1856/1856 [==============================] - 2s 810us/step - loss: 5.0300\n",
            "Epoch 158/200\n",
            "1856/1856 [==============================] - 2s 815us/step - loss: 5.0293\n",
            "Epoch 159/200\n",
            "1856/1856 [==============================] - 2s 848us/step - loss: 5.0289\n",
            "Epoch 160/200\n",
            "1856/1856 [==============================] - 2s 837us/step - loss: 5.0287\n",
            "Epoch 161/200\n",
            "1856/1856 [==============================] - 2s 873us/step - loss: 5.0280\n",
            "Epoch 162/200\n",
            "1856/1856 [==============================] - 2s 870us/step - loss: 5.0278\n",
            "Epoch 163/200\n",
            "1856/1856 [==============================] - 2s 863us/step - loss: 5.0275\n",
            "Epoch 164/200\n",
            "1856/1856 [==============================] - 2s 866us/step - loss: 5.0270\n",
            "Epoch 165/200\n",
            "1856/1856 [==============================] - 2s 840us/step - loss: 5.0264\n",
            "Epoch 166/200\n",
            "1856/1856 [==============================] - 2s 863us/step - loss: 5.0266\n",
            "Epoch 167/200\n",
            "1856/1856 [==============================] - 2s 840us/step - loss: 5.0259\n",
            "Epoch 168/200\n",
            "1856/1856 [==============================] - 2s 854us/step - loss: 5.0256\n",
            "Epoch 169/200\n",
            "1856/1856 [==============================] - 2s 838us/step - loss: 5.0254\n",
            "Epoch 170/200\n",
            "1856/1856 [==============================] - 2s 879us/step - loss: 5.0245\n",
            "Epoch 171/200\n",
            "1856/1856 [==============================] - 2s 877us/step - loss: 5.0245\n",
            "Epoch 172/200\n",
            "1856/1856 [==============================] - 2s 836us/step - loss: 5.0244\n",
            "Epoch 173/200\n",
            "1856/1856 [==============================] - 2s 840us/step - loss: 5.0235\n",
            "Epoch 174/200\n",
            "1856/1856 [==============================] - 2s 880us/step - loss: 5.0234\n",
            "Epoch 175/200\n",
            "1856/1856 [==============================] - 2s 863us/step - loss: 5.0230\n",
            "Epoch 176/200\n",
            "1856/1856 [==============================] - 2s 817us/step - loss: 5.0226\n",
            "Epoch 177/200\n",
            "1856/1856 [==============================] - 2s 829us/step - loss: 5.0223\n",
            "Epoch 178/200\n",
            "1856/1856 [==============================] - 2s 852us/step - loss: 5.0219\n",
            "Epoch 179/200\n",
            "1856/1856 [==============================] - 2s 838us/step - loss: 5.0216\n",
            "Epoch 180/200\n",
            "1856/1856 [==============================] - 2s 846us/step - loss: 5.0212\n",
            "Epoch 181/200\n",
            "1856/1856 [==============================] - 2s 843us/step - loss: 5.0207\n",
            "Epoch 182/200\n",
            "1856/1856 [==============================] - 2s 854us/step - loss: 5.0208\n",
            "Epoch 183/200\n",
            "1856/1856 [==============================] - 2s 821us/step - loss: 5.0198\n",
            "Epoch 184/200\n",
            "1856/1856 [==============================] - 2s 851us/step - loss: 5.0198\n",
            "Epoch 185/200\n",
            "1856/1856 [==============================] - 2s 818us/step - loss: 5.0195\n",
            "Epoch 186/200\n",
            "1856/1856 [==============================] - 2s 810us/step - loss: 5.0193\n",
            "Epoch 187/200\n",
            "1856/1856 [==============================] - 2s 858us/step - loss: 5.0181\n",
            "Epoch 188/200\n",
            "1856/1856 [==============================] - 2s 852us/step - loss: 5.0187\n",
            "Epoch 189/200\n",
            "1856/1856 [==============================] - 2s 823us/step - loss: 5.0181\n",
            "Epoch 190/200\n",
            "1856/1856 [==============================] - 2s 850us/step - loss: 5.0173\n",
            "Epoch 191/200\n",
            "1856/1856 [==============================] - 2s 855us/step - loss: 5.0173\n",
            "Epoch 192/200\n",
            "1856/1856 [==============================] - 2s 872us/step - loss: 5.0171\n",
            "Epoch 193/200\n",
            "1856/1856 [==============================] - 2s 829us/step - loss: 5.0164\n",
            "Epoch 194/200\n",
            "1856/1856 [==============================] - 2s 852us/step - loss: 5.0161\n",
            "Epoch 195/200\n",
            "1856/1856 [==============================] - 2s 822us/step - loss: 5.0158\n",
            "Epoch 196/200\n",
            "1856/1856 [==============================] - 2s 854us/step - loss: 5.0157\n",
            "Epoch 197/200\n",
            "1856/1856 [==============================] - 2s 830us/step - loss: 5.0148\n",
            "Epoch 198/200\n",
            "1856/1856 [==============================] - 2s 875us/step - loss: 5.0148\n",
            "Epoch 199/200\n",
            "1856/1856 [==============================] - 2s 843us/step - loss: 5.0146\n",
            "Epoch 200/200\n",
            "1856/1856 [==============================] - 2s 831us/step - loss: 5.0138\n"
          ],
          "name": "stdout"
        }
      ]
    },
    {
      "cell_type": "markdown",
      "metadata": {
        "id": "dCFMrYxGXNjx",
        "colab_type": "text"
      },
      "source": [
        "**Evaluation of Model**"
      ]
    },
    {
      "cell_type": "code",
      "metadata": {
        "id": "47rFThPcW_Zi",
        "colab_type": "code",
        "colab": {
          "base_uri": "https://localhost:8080/",
          "height": 51
        },
        "outputId": "68c2d21a-85ec-47b2-e513-a1fdff84036f"
      },
      "source": [
        "y_pred_test_lstm = model_lstm.predict(X_tst_t)\n",
        "y_train_pred_lstm = model_lstm.predict(X_tr_t)\n",
        "print(\"The R2 score on the Train set is:\\t{:0.3f}\".format(r2_score(y_train, y_train_pred_lstm)))\n",
        "r2_train = r2_score(y_train, y_train_pred_lstm)\n",
        "\n",
        "print(\"The R2 score on the Test set is:\\t{:0.3f}\".format(r2_score(y_test, y_pred_test_lstm)))\n",
        "r2_test = r2_score(y_test, y_pred_test_lstm)"
      ],
      "execution_count": null,
      "outputs": [
        {
          "output_type": "stream",
          "text": [
            "The R2 score on the Train set is:\t0.997\n",
            "The R2 score on the Test set is:\t0.966\n"
          ],
          "name": "stdout"
        }
      ]
    },
    {
      "cell_type": "markdown",
      "metadata": {
        "id": "9JnHW9WpXkv5",
        "colab_type": "text"
      },
      "source": [
        "**Predictions made by LSTM**"
      ]
    },
    {
      "cell_type": "code",
      "metadata": {
        "id": "UbP9iz20Xlti",
        "colab_type": "code",
        "colab": {
          "base_uri": "https://localhost:8080/",
          "height": 34
        },
        "outputId": "b50fdf60-c8f3-453b-fe32-7a5c6ef9181e"
      },
      "source": [
        "score_lstm= model_lstm.evaluate(X_tst_t, y_test, batch_size=1)"
      ],
      "execution_count": null,
      "outputs": [
        {
          "output_type": "stream",
          "text": [
            "185/185 [==============================] - 0s 2ms/step\n"
          ],
          "name": "stdout"
        }
      ]
    },
    {
      "cell_type": "code",
      "metadata": {
        "id": "XB7ISL2vXqwI",
        "colab_type": "code",
        "colab": {
          "base_uri": "https://localhost:8080/",
          "height": 34
        },
        "outputId": "a754f35c-834c-40d9-cd16-6e4122b0f570"
      },
      "source": [
        "print('LSTM: %f'%score_lstm)"
      ],
      "execution_count": null,
      "outputs": [
        {
          "output_type": "stream",
          "text": [
            "LSTM: 64.226404\n"
          ],
          "name": "stdout"
        }
      ]
    },
    {
      "cell_type": "code",
      "metadata": {
        "id": "8IzmRZnMXtg_",
        "colab_type": "code",
        "colab": {}
      },
      "source": [
        "y_pred_test_LSTM = model_lstm.predict(X_tst_t)"
      ],
      "execution_count": null,
      "outputs": []
    },
    {
      "cell_type": "markdown",
      "metadata": {
        "id": "W3RoRTf8XzKM",
        "colab_type": "text"
      },
      "source": [
        "**LSTM's Prediction Visual**"
      ]
    },
    {
      "cell_type": "code",
      "metadata": {
        "id": "x0aiqKYkXkDR",
        "colab_type": "code",
        "colab": {
          "base_uri": "https://localhost:8080/",
          "height": 295
        },
        "outputId": "620b2e17-ec3c-4045-fad6-9f31ef5ed0f5"
      },
      "source": [
        "plt.plot(y_test, label='True')\n",
        "plt.plot(y_pred_test_LSTM, label='LSTM')\n",
        "plt.title(\"LSTM's_Prediction\")\n",
        "plt.xlabel('Observation')\n",
        "plt.ylabel('INR_Scaled')\n",
        "plt.legend()\n",
        "plt.show()"
      ],
      "execution_count": null,
      "outputs": [
        {
          "output_type": "display_data",
          "data": {
            "image/png": "[encoded data removed]",
            "text/plain": [
              "<Figure size 432x288 with 1 Axes>"
            ]
          },
          "metadata": {
            "tags": [],
            "needs_background": "light"
          }
        }
      ]
    },
    {
      "cell_type": "code",
      "metadata": {
        "id": "gHmPoge6YOID",
        "colab_type": "code",
        "colab": {}
      },
      "source": [
        "col1 = pd.DataFrame(y_test, columns=['True'])\n",
        "\n",
        "col2 = pd.DataFrame(y_pred_test_LSTM, columns=['LSTM_prediction'])\n",
        "\n",
        "col3 = pd.DataFrame(history_model_lstm.history['loss'])\n",
        "results = pd.concat([col1, col2], axis=1)\n",
        "results.to_csv('PredictionResults_LSTM_NonShift.csv')"
      ],
      "execution_count": null,
      "outputs": []
    },
    {
      "cell_type": "code",
      "metadata": {
        "id": "GHxgYFNnYbzR",
        "colab_type": "code",
        "colab": {
          "base_uri": "https://localhost:8080/",
          "height": 203
        },
        "outputId": "01e7ac34-9274-47bd-d5d7-a72e9336b8eb"
      },
      "source": [
        "results.head()"
      ],
      "execution_count": null,
      "outputs": [
        {
          "output_type": "execute_result",
          "data": {
            "text/html": [
              "<div>\n",
              "<style scoped>\n",
              "    .dataframe tbody tr th:only-of-type {\n",
              "        vertical-align: middle;\n",
              "    }\n",
              "\n",
              "    .dataframe tbody tr th {\n",
              "        vertical-align: top;\n",
              "    }\n",
              "\n",
              "    .dataframe thead th {\n",
              "        text-align: right;\n",
              "    }\n",
              "</style>\n",
              "<table border=\"1\" class=\"dataframe\">\n",
              "  <thead>\n",
              "    <tr style=\"text-align: right;\">\n",
              "      <th></th>\n",
              "      <th>True</th>\n",
              "      <th>LSTM_prediction</th>\n",
              "    </tr>\n",
              "  </thead>\n",
              "  <tbody>\n",
              "    <tr>\n",
              "      <th>0</th>\n",
              "      <td>182.779999</td>\n",
              "      <td>186.176727</td>\n",
              "    </tr>\n",
              "    <tr>\n",
              "      <th>1</th>\n",
              "      <td>179.660004</td>\n",
              "      <td>184.497421</td>\n",
              "    </tr>\n",
              "    <tr>\n",
              "      <th>2</th>\n",
              "      <td>178.970001</td>\n",
              "      <td>179.608505</td>\n",
              "    </tr>\n",
              "    <tr>\n",
              "      <th>3</th>\n",
              "      <td>178.229996</td>\n",
              "      <td>180.657272</td>\n",
              "    </tr>\n",
              "    <tr>\n",
              "      <th>4</th>\n",
              "      <td>177.380005</td>\n",
              "      <td>179.463577</td>\n",
              "    </tr>\n",
              "  </tbody>\n",
              "</table>\n",
              "</div>"
            ],
            "text/plain": [
              "         True  LSTM_prediction\n",
              "0  182.779999       186.176727\n",
              "1  179.660004       184.497421\n",
              "2  178.970001       179.608505\n",
              "3  178.229996       180.657272\n",
              "4  177.380005       179.463577"
            ]
          },
          "metadata": {
            "tags": []
          },
          "execution_count": 26
        }
      ]
    },
    {
      "cell_type": "markdown",
      "metadata": {
        "id": "48ruBIKlMgP3",
        "colab_type": "text"
      },
      "source": [
        "**Note:** we can improve the model's accuracy by increasing the epochs, trying out different activation functions or even change the model's structure. "
      ]
    }
  ]
}